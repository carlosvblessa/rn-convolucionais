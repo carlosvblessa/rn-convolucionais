{
 "cells": [
  {
   "cell_type": "code",
   "execution_count": 1,
   "metadata": {
    "colab": {},
    "colab_type": "code",
    "id": "5gSr4bKn_NPo"
   },
   "outputs": [],
   "source": [
    "# Importa o pacote principal do PyTorch para trabalhar com tensores e operações em CPU/GPU.\n",
    "import torch\n",
    "\n",
    "# Do PyTorch, importa o submódulo 'nn', que contém camadas, perdas e utilitários de redes neurais.\n",
    "from torch import nn\n",
    "\n",
    "# Importa do scikit-image o submódulo 'data', que fornece imagens de exemplo para testes/demonstrações.\n",
    "from skimage import data\n"
   ]
  },
  {
   "cell_type": "markdown",
   "metadata": {
    "colab_type": "text",
    "id": "Dz3yaPOyyOYp"
   },
   "source": [
    "## Pooling\n",
    "\n",
    "Documentação: https://pytorch.org/docs/stable/nn.html#torch.nn.MaxPool2d\n",
    "\n",
    "```python\n",
    "torch.nn.MaxPool2d(kernel_size, stride=None, padding=0)\n",
    "```\n",
    "\n",
    "**```kernel_size```** <br>\n",
    "Tamanho dos *Field of View*. Pode ser uma tupla ou um único número. Ex: ```kernel_size = 3``` definirá FoV de $3 \\times 3$\n",
    "\n",
    "**```stride```** <br>\n",
    "Controla o pulo da janela deslizante. \n",
    "\n",
    "**```padding```** <br>\n",
    "Preenchimento com zeros nas bordas da imagem.\n",
    "\n",
    "A camda de pooling espera uma entrada de **pelo menos** 3 dimensões ($C \\times H \\times W$), mas em geral a rede irá prover também a dimensão do batch ($B \\times C \\times H \\times W$) "
   ]
  },
  {
   "cell_type": "code",
   "execution_count": 2,
   "metadata": {
    "colab": {},
    "colab_type": "code",
    "id": "z_6nSeAGyuSR"
   },
   "outputs": [
    {
     "name": "stdout",
     "output_type": "stream",
     "text": [
      "torch.Size([1, 3, 3])\n",
      "tensor([[[1., 2., 3.],\n",
      "         [4., 5., 6.],\n",
      "         [7., 8., 9.]]])\n",
      "torch.Size([1, 2, 2])\n",
      "tensor([[[5., 6.],\n",
      "         [8., 9.]]])\n"
     ]
    }
   ],
   "source": [
    "# Cria um tensor 3D (C×H×W) com 1 canal e imagem 3×3; serve como exemplo simples para pooling 2D.\n",
    "tns = torch.FloatTensor([ [ [ 1, 2,3 ], \n",
    "                            [4,5,6], \n",
    "                            [7,8,9]  ] ] )\n",
    "\n",
    "# Define uma camada de MaxPooling 2D com janela 2×2 e stride=1 (anda 1 pixel por vez).\n",
    "pool = nn.MaxPool2d(2, stride=1)\n",
    "\n",
    "# Aplica o max-pool ao tensor; resultado terá dimensões (1, 2, 2) com os máximos de cada janela 2×2.\n",
    "saida = pool(tns)\n",
    "\n",
    "# Mostra as dimensões do tensor de entrada (esperado: torch.Size([1, 3, 3])).\n",
    "print(tns.size())\n",
    "\n",
    "# Imprime o conteúdo da entrada para conferência.\n",
    "print(tns)\n",
    "\n",
    "# Mostra as dimensões da saída (esperado: torch.Size([1, 2, 2])).\n",
    "print(saida.size())\n",
    "\n",
    "# Imprime o conteúdo da saída; deve ser [[5, 6], [8, 9]].\n",
    "print(saida)\n"
   ]
  },
  {
   "cell_type": "markdown",
   "metadata": {
    "colab_type": "text",
    "id": "p_xGNalT1e2k"
   },
   "source": [
    "Ao processar dados com múltiplos canais, a camada de pooling processa cada canal de entrada separadamente ao invés de processar todos os canais como em uma camada convolucional. Isso significa que **o número de canais de saída para a camada de pooling é o mesmo que o número de canais de entrada**. \n",
    "\n",
    "Vamos processar abaixo a imagem da astronauta."
   ]
  },
  {
   "cell_type": "code",
   "execution_count": 3,
   "metadata": {
    "colab": {},
    "colab_type": "code",
    "id": "dfXYSTkH0gmq"
   },
   "outputs": [
    {
     "name": "stdout",
     "output_type": "stream",
     "text": [
      "Feature Map: torch.Size([1, 16, 512, 512])\n"
     ]
    }
   ],
   "source": [
    "# Cria uma camada convolucional 2D para imagens RGB (3 canais) com 16 filtros 3×3;\n",
    "# padding=1 preserva H e W (stride padrão = 1). Pesos iniciam aleatoriamente.\n",
    "conv = nn.Conv2d(in_channels=3, out_channels=16, \n",
    "                 kernel_size=3, padding=1)\n",
    "\n",
    "# Carrega a imagem de exemplo \"astronaut\" (NumPy, formato H×W×C) do skimage.\n",
    "rgb = data.astronaut()\n",
    "\n",
    "# Converte o array NumPy para tensor float32 do PyTorch (valores ainda em 0–255).\n",
    "rgb_tns = torch.Tensor(rgb)\n",
    "\n",
    "# Reorganiza para CHW e adiciona a dimensão de batch (N=1): (1, 3, H, W).\n",
    "rgb_tns = rgb_tns.permute(2, 0, 1).unsqueeze(0)\n",
    "\n",
    "# Aplica a convolução, gerando 16 mapas de ativação do mesmo tamanho espacial da entrada.\n",
    "mapa_de_ativacao = conv(rgb_tns)\n",
    "\n",
    "# Imprime o shape do feature map: esperado (1, 16, H, W).\n",
    "print('Feature Map:', mapa_de_ativacao.shape)\n"
   ]
  },
  {
   "cell_type": "code",
   "execution_count": 4,
   "metadata": {
    "colab": {},
    "colab_type": "code",
    "id": "lfyfZmZd1iH8"
   },
   "outputs": [
    {
     "name": "stdout",
     "output_type": "stream",
     "text": [
      "torch.Size([1, 16, 256, 256])\n"
     ]
    }
   ],
   "source": [
    "# Cria uma camada de max-pooling 2×2; como não foi passado stride, ele assume stride=kernel_size (=2), reduzindo H e W pela metade.\n",
    "pool = nn.MaxPool2d(kernel_size=2)\n",
    "\n",
    "# Aplica o pooling aos mapas de ativação (formato típico: N×C×H×W) para obter mapas mais compactos.\n",
    "saida = pool(mapa_de_ativacao)\n",
    "\n",
    "# Exibe o novo tamanho (esperado: N×C×H/2×W/2 quando H e W são pares).\n",
    "print(saida.size())\n"
   ]
  },
  {
   "cell_type": "markdown",
   "metadata": {
    "colab_type": "text",
    "id": "M62eNRKDpS1g"
   },
   "source": [
    "## Batch Normalization\n",
    "\n",
    "Documentação: https://pytorch.org/docs/stable/nn.html#torch.nn.BatchNorm2d\n",
    "\n",
    "```python\n",
    "torch.nn.BatchNorm2d(num_features)\n",
    "```\n",
    "\n",
    "**```num_features```**<br>\n",
    "$\\mathbf{\\gamma}$ e $\\mathbf{\\beta}$ são aprendidos individualmente para cada canal da entrada. Em ativações de camadas intermediárias, esse valor corresponde ao **número de feature maps**. \n"
   ]
  },
  {
   "cell_type": "code",
   "execution_count": 5,
   "metadata": {
    "colab": {
     "base_uri": "https://localhost:8080/",
     "height": 159
    },
    "colab_type": "code",
    "executionInfo": {
     "elapsed": 2160,
     "status": "ok",
     "timestamp": 1590763228257,
     "user": {
      "displayName": "Camila Laranjeira",
      "photoUrl": "https://lh3.googleusercontent.com/a-/AOh14Giz7WDIBQ3wOEmidIKdRUS7fGKCuZVQijzJHWlRLjg=s64",
      "userId": "03895474106233302954"
     },
     "user_tz": 180
    },
    "id": "R7rkKA62pUV6",
    "outputId": "3130a87f-213c-4fcf-ac6f-de8553c3ce67"
   },
   "outputs": [
    {
     "name": "stdout",
     "output_type": "stream",
     "text": [
      "Sequential(\n",
      "  (0): Conv2d(3, 32, kernel_size=(3, 3), stride=(1, 1), padding=(1, 1))\n",
      "  (1): BatchNorm2d(32, eps=1e-05, momentum=0.1, affine=True, track_running_stats=True)\n",
      "  (2): ReLU()\n",
      "  (3): MaxPool2d(kernel_size=10, stride=10, padding=0, dilation=1, ceil_mode=False)\n",
      ")\n",
      "torch.Size([12, 3, 512, 512])\n",
      "torch.Size([12, 32, 51, 51])\n"
     ]
    }
   ],
   "source": [
    "# Define um bloco sequencial: Conv(3→32, k=3, p=1) + BatchNorm + ReLU + MaxPool(10×10).\n",
    "blococonv = nn.Sequential(\n",
    "    # Convolução 3×3 que preserva H×W (padding=1); entrada RGB (3 canais) → 32 mapas.\n",
    "    nn.Conv2d(3, 32, kernel_size=3, padding=1),\n",
    "    # Normalização por canal (32 canais) para estabilizar e acelerar o treino/inferência.\n",
    "    nn.BatchNorm2d(32),\n",
    "    # Não linearidade ReLU.\n",
    "    nn.ReLU(),\n",
    "    # Max-Pooling 10×10 (stride=10 por padrão): reduz H e W em ~10×.\n",
    "    nn.MaxPool2d(kernel_size=10)\n",
    ")\n",
    "# Imprime a arquitetura do bloco para inspeção.\n",
    "print(blococonv)\n",
    "\n",
    "# Cria um minibatch empilhando 12 cópias de rgb_tns ao longo da dimensão do batch (dim=0).\n",
    "minibatch = torch.cat(12 * [rgb_tns])\n",
    "\n",
    "# Mostra o shape do minibatch (esperado: [12, 3, H, W]).\n",
    "print(minibatch.size())\n",
    "# Executa o forward: aplica conv→bn→relu→pool ao minibatch.\n",
    "saida = blococonv(minibatch)\n",
    "# Mostra o shape da saída (≈ [12, 32, H/10, W/10], arredondando para baixo se H/W não forem múltiplos de 10).\n",
    "print(saida.size())\n"
   ]
  }
 ],
 "metadata": {
  "colab": {
   "authorship_tag": "ABX9TyMRUgiM3STPAjSTr9bHd3Pe",
   "collapsed_sections": [],
   "name": "Outras_Camadas.ipynb",
   "provenance": []
  },
  "kernelspec": {
   "display_name": "venv",
   "language": "python",
   "name": "python3"
  },
  "language_info": {
   "codemirror_mode": {
    "name": "ipython",
    "version": 3
   },
   "file_extension": ".py",
   "mimetype": "text/x-python",
   "name": "python",
   "nbconvert_exporter": "python",
   "pygments_lexer": "ipython3",
   "version": "3.10.12"
  }
 },
 "nbformat": 4,
 "nbformat_minor": 0
}
