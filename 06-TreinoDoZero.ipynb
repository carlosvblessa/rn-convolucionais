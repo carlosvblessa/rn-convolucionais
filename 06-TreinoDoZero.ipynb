{
  "cells": [
    {
      "cell_type": "markdown",
      "metadata": {
        "colab_type": "text",
        "id": "xOQDdT2QQfAR"
      },
      "source": [
        "# Treino do zero (*from scratch*)\n",
        "\n",
        "Neste script vamos conhecer a estratégia de treino tradicional de redes neurais em geral: **O treino do zero (*from scratch*)**. <br>\n",
        "Trataremos do uso mais tradicional de CNNs: **classificação de imagens**.\n",
        "\n",
        "\n",
        "Primeiro de tudo, vamos fazer os imports."
      ]
    },
    {
      "cell_type": "code",
      "execution_count": 1,
      "metadata": {
        "colab": {},
        "colab_type": "code",
        "id": "g_B0cddsU33Y"
      },
      "outputs": [],
      "source": [
        "# Implementação e treinamento da rede\n",
        "\n",
        "# Importa o núcleo do PyTorch (tensores, CUDA, etc.).\n",
        "import torch\n",
        "\n",
        "# Traz os submódulos de redes neurais (nn) e otimizadores (optim).\n",
        "from torch import nn, optim\n",
        "\n",
        "# Carregamento de Dados\n",
        "\n",
        "# Utilitário para criar DataLoaders (mini-batches, shuffle, workers paralelos).\n",
        "from torch.utils.data import DataLoader\n",
        "\n",
        "# Datasets prontos (CIFAR-10, MNIST, etc.) do torchvision.\n",
        "from torchvision import datasets\n",
        "\n",
        "# Transforms para pré-processamento/augmentação (ToTensor, Normalize, Resize, ...).\n",
        "from torchvision import transforms\n",
        "\n",
        "# (Redundante) `optim` já foi importado acima; esta linha pode ser removida sem impacto.\n",
        "from torch import optim\n",
        "\n",
        "# Seção de organização do script: métricas e visualização.\n",
        "# Plots e análises\n",
        "\n",
        "# Métrica de acurácia do scikit-learn.\n",
        "from sklearn.metrics import accuracy_score\n",
        "\n",
        "# Biblioteca de gráficos.\n",
        "import matplotlib.pyplot as plt\n",
        "\n",
        "# Operações numéricas e arrays.\n",
        "import numpy as np\n",
        "\n",
        "# Medição de tempo e utilidades do SO (paths, variáveis de ambiente, etc.).\n",
        "import time, os\n",
        "\n",
        "# (Apenas em Jupyter) Renderiza gráficos do Matplotlib embutidos nas células.\n",
        "%matplotlib inline\n"
      ]
    },
    {
      "cell_type": "code",
      "execution_count": 2,
      "metadata": {
        "colab": {
          "base_uri": "https://localhost:8080/",
          "height": 35
        },
        "colab_type": "code",
        "id": "BCFjDoZr5aU7",
        "outputId": "ce85ed84-e42d-4d64-c097-adc97baba5a4"
      },
      "outputs": [
        {
          "name": "stdout",
          "output_type": "stream",
          "text": [
            "cpu\n"
          ]
        }
      ],
      "source": [
        "# Define os hiperparâmetros do treinamento em um dicionário.\n",
        "args = {\n",
        "    # Número total de épocas (passagens completas pelo dataset).\n",
        "    'epoch_num': 150,     # Número de épocas.\n",
        "    # Taxa de aprendizado inicial do otimizador.\n",
        "    'lr': 1e-3,           # Taxa de aprendizado.\n",
        "    # Penalidade L2 aplicada aos pesos para reduzir overfitting.\n",
        "    'weight_decay': 1e-3, # Penalidade L2 (Regularização).\n",
        "    # Quantidade de amostras processadas por iteração.\n",
        "    'batch_size': 50,     # Tamanho do batch.\n",
        "}\n",
        "\n",
        "# Verifica se há GPU CUDA disponível para acelerar o treinamento.\n",
        "# Definindo dispositivo de hardware\n",
        "if torch.cuda.is_available():\n",
        "    # Se houver CUDA, usa a GPU.\n",
        "    args['device'] = torch.device('cuda')\n",
        "else:\n",
        "    # Caso contrário, recorre à CPU.\n",
        "    args['device'] = torch.device('cpu')\n",
        "\n",
        "# Mostra no console qual dispositivo foi selecionado.\n",
        "print(args['device'])\n"
      ]
    },
    {
      "cell_type": "markdown",
      "metadata": {
        "colab_type": "text",
        "id": "OqNPF0VmGZma"
      },
      "source": [
        "## Carregamento de Dados\n",
        "\n",
        "Usaremos o dataset [CIFAR10](https://www.cs.toronto.edu/~kriz/cifar.html), um conjunto de imagens RGB divididas em 10 categorias de objeto: avião, automóvel, pássaro, gato, veado, cachorro, sapo, cavalo, navio, caminhão. As imagens possuem $32 \\times 32$ pixels.\n",
        "\n",
        "Trata-se de um dataset de 60 mil imagens naturais (do mundo real), muito utilizado para avaliar a qualidade de modelos de aprendizado profundo.\n",
        "\n",
        "https://pytorch.org/docs/stable/torchvision/datasets.html#cifar"
      ]
    },
    {
      "cell_type": "code",
      "execution_count": 3,
      "metadata": {
        "colab": {
          "base_uri": "https://localhost:8080/",
          "height": 35
        },
        "colab_type": "code",
        "id": "8M1qzFIc58Y3",
        "outputId": "6d139741-d363-47b0-8c1c-4841470b3c1f"
      },
      "outputs": [],
      "source": [
        "# Cria um pipeline de transformações: Compose agrupa várias operações a serem aplicadas em cada imagem.\n",
        "data_transform = transforms.Compose([\n",
        "# Redimensiona a imagem para 32 px (no CIFAR-10 as imagens já são 32×32; aqui garante o tamanho).\n",
        "                                     transforms.Resize(32),\n",
        "# Converte PIL/NumPy para Tensor (C×H×W) com valores em [0,1]; fecha a lista e o Compose.\n",
        "                                     transforms.ToTensor(),])\n",
        "\n",
        "# Instancia o dataset CIFAR-10 para TREINO no diretório atual.\n",
        "train_set = datasets.CIFAR10('.', \n",
        "# Seleciona o split de treino.\n",
        "                      train=True, \n",
        "# Aplica o pipeline de transformações definido acima.\n",
        "                      transform=data_transform, \n",
        "# Faz o download se os arquivos não existirem localmente; fecha a chamada.\n",
        "                      download=True)\n",
        "\n",
        "# Instancia o dataset CIFAR-10 para TESTE no diretório atual.\n",
        "test_set = datasets.CIFAR10('.', \n",
        "# Seleciona o split de teste.\n",
        "                      train=False, \n",
        "# Usa o mesmo pipeline de transformações para manter consistência.\n",
        "                      transform=data_transform, \n",
        "# Não força novo download (assume que já foi feito no train).\n",
        "                      download=False)\n"
      ]
    },
    {
      "cell_type": "code",
      "execution_count": 4,
      "metadata": {
        "colab": {
          "base_uri": "https://localhost:8080/",
          "height": 116
        },
        "colab_type": "code",
        "id": "Oi-sd2Xq7LJz",
        "outputId": "357ecbca-a108-4a4b-8d44-26c639fc8026"
      },
      "outputs": [
        {
          "data": {
            "image/png": "[encoded data removed]",
            "text/plain": [
              "<Figure size 2000x200 with 10 Axes>"
            ]
          },
          "metadata": {},
          "output_type": "display_data"
        }
      ],
      "source": [
        "# Cria uma figura com 1 linha e 10 subplots; o tamanho total é 20×2 polegadas.\n",
        "fig, axs = plt.subplots(1,10, figsize=(20, 2))\n",
        "\n",
        "# Itera sobre as 10 primeiras amostras do conjunto de teste.\n",
        "for i in range(10):\n",
        "  # Obtém a imagem (tensor) e o rótulo correspondente no índice i.\n",
        "  data, label = test_set[i]\n",
        "  # Converte de C×H×W para H×W×C para exibir corretamente com o Matplotlib.\n",
        "  axs[i].imshow(data.permute((1,2,0)))\n",
        "  # Remove os eixos para uma visualização limpa.\n",
        "  axs[i].axis('off')\n"
      ]
    },
    {
      "cell_type": "code",
      "execution_count": 5,
      "metadata": {
        "colab": {},
        "colab_type": "code",
        "id": "EVEf-GCDHtNf"
      },
      "outputs": [],
      "source": [
        "# Cria o DataLoader do conjunto de TREINO; entrega lotes do train_set ao modelo.\n",
        "train_loader = DataLoader(train_set, \n",
        "# Tamanho do mini-batch definido nos hiperparâmetros.\n",
        "                          batch_size=args['batch_size'], \n",
        "# Embaralha a ordem dos exemplos a cada época (boa prática no treino).\n",
        "                          shuffle=True)\n",
        "\n",
        "# Cria o DataLoader do conjunto de TESTE/validação.\n",
        "test_loader = DataLoader(test_set, \n",
        "# Usa o mesmo tamanho de lote para avaliação.\n",
        "                          batch_size=args['batch_size'], \n",
        "# Aqui está como True; em geral usa-se shuffle=False no teste para reprodutibilidade.\n",
        "                          shuffle=True)\n"
      ]
    },
    {
      "cell_type": "markdown",
      "metadata": {
        "colab_type": "text",
        "id": "z2itzENY29Ty"
      },
      "source": [
        "## LeNet 5\n",
        "\n",
        "Primeiro de tudo, precisamos **implementar uma CNN**. Sim, chegou a hora de colocar em prática tudo que já sabemos sobre redes convolucionais, montando uma arquitetura completa!\n",
        "\n",
        "A arquitetura escolhida para essa aula é a LeNet. Ela é a primeira CNN bem sucedida da história, [proposta em 1998 pelo Yann LeCun](http://yann.lecun.com/exdb/publis/pdf/lecun-01a.pdf). \n",
        "\n",
        "<img src=\"Lenet1.png\" width=\"800\">\n",
        "\n",
        "<img src=\"Lenet2.jpeg\" width=\"700\">\n",
        "\n",
        "Vamos implementar blocos convolucionais incluindo todas as camadas que aprendemos nesse curso:\n",
        "```python\n",
        "net = nn.Sequential(\n",
        "          nn.Conv2d(...),\n",
        "          nn.BatchNorm2d(...),\n",
        "          nn.Tanh(), # Ativação específica da LeNet\n",
        "          nn.AvgPool2d(...), # Pooling específico da LeNet\n",
        "      )\n",
        "```"
      ]
    },
    {
      "cell_type": "code",
      "execution_count": 6,
      "metadata": {
        "colab": {},
        "colab_type": "code",
        "id": "yx8rF8UB29Az"
      },
      "outputs": [
        {
          "name": "stdout",
          "output_type": "stream",
          "text": [
            "Sequential(\n",
            "  (0): Conv2d(3, 6, kernel_size=(5, 5), stride=(1, 1))\n",
            "  (1): BatchNorm2d(6, eps=1e-05, momentum=0.1, affine=True, track_running_stats=True)\n",
            "  (2): Tanh()\n",
            "  (3): AvgPool2d(kernel_size=2, stride=2, padding=0)\n",
            "  (4): Conv2d(6, 16, kernel_size=(5, 5), stride=(1, 1))\n",
            "  (5): BatchNorm2d(16, eps=1e-05, momentum=0.1, affine=True, track_running_stats=True)\n",
            "  (6): Tanh()\n",
            "  (7): AvgPool2d(kernel_size=2, stride=2, padding=0)\n",
            "  (8): Conv2d(16, 120, kernel_size=(5, 5), stride=(1, 1))\n",
            "  (9): BatchNorm2d(120, eps=1e-05, momentum=0.1, affine=True, track_running_stats=True)\n",
            "  (10): Tanh()\n",
            "  (11): Flatten(start_dim=1, end_dim=-1)\n",
            "  (12): Linear(in_features=120, out_features=84, bias=True)\n",
            "  (13): Tanh()\n",
            "  (14): Linear(in_features=84, out_features=10, bias=True)\n",
            ")\n"
          ]
        }
      ],
      "source": [
        "# Define a rede no estilo LeNet-5 usando um contêiner sequencial.\n",
        "net = nn.Sequential(\n",
        "# Bloco conv 1: 3 canais → 6 mapas, kernel 5, sem padding (32→28).\n",
        "        nn.Conv2d(3, 6, kernel_size=5, stride=1, padding=0),        # entrada: (b, 3, 32, 32) e saida: (b, 6, 28, 28)\n",
        "# Normaliza por canal (estabiliza treinamento).\n",
        "        nn.BatchNorm2d(6),\n",
        "# Ativação Tanh (seguindo o LeNet original).\n",
        "        nn.Tanh(),\n",
        "# Pooling médio 2×2 (reduz 28→14 em H e W).\n",
        "        nn.AvgPool2d(kernel_size=2, stride=2, padding=0),           # entrada: (b, 6, 28, 28) e saida: (b, 6, 14, 14)\n",
        "        \n",
        "# Bloco conv 2: 6→16 mapas, kernel 5, sem padding (14→10).\n",
        "        nn.Conv2d(6, 16, kernel_size=5, stride=1, padding=0),       # entrada: (b, 6, 14, 14) e saida: (b, 16, 10, 10)\n",
        "# BN para os 16 canais.\n",
        "        nn.BatchNorm2d(16),\n",
        "# Ativação Tanh.\n",
        "        nn.Tanh(),\n",
        "# Pooling médio 2×2 (10→5).\n",
        "        nn.AvgPool2d(kernel_size=2, stride=2, padding=0),           # entrada: (b, 16, 10, 10) e saida: (b, 16, 5, 5)\n",
        "        \n",
        "# Bloco conv 3: 16→120 mapas, kernel 5 cobrindo todo o 5×5 (5→1).\n",
        "        nn.Conv2d(16, 120, kernel_size=5, stride=1, padding=0),     # entrada: (b, 16, 5, 5) e saida: (b, 120, 1, 1)\n",
        "# BN para 120 canais.\n",
        "        nn.BatchNorm2d(120),\n",
        "# Ativação Tanh.\n",
        "        nn.Tanh(),\n",
        "# Achata o tensor (b,120,1,1) → (b,120).\n",
        "        nn.Flatten(),  # lineariza formando um vetor                # entrada: (b, 120, 1, 1) e saida: (b, 120*1*1) = (b, 120)\n",
        "        \n",
        "# Camada totalmente conectada: 120→84.\n",
        "        nn.Linear(120, 84),                                         # entrada: (b, 120) e saida: (b, 84)\n",
        "# Tanh novamente (padrão LeNet).\n",
        "        nn.Tanh(),\n",
        "# Camada de saída: 84→10 classes (CIFAR-10).\n",
        "        nn.Linear(84, 10),                                          # entrada: (b, 84) e saida: (b, 10)\n",
        "        )\n",
        "\n",
        "# Move o modelo para o dispositivo configurado (GPU se disponível, senão CPU).\n",
        "net = net.to(args['device'])\n",
        "\n",
        "print(net)"
      ]
    },
    {
      "cell_type": "markdown",
      "metadata": {
        "colab_type": "text",
        "id": "SsxmosWjUo9f"
      },
      "source": [
        "VGG16"
      ]
    },
    {
      "cell_type": "code",
      "execution_count": 7,
      "metadata": {
        "colab": {},
        "colab_type": "code",
        "id": "XDpRre0gUn-Q"
      },
      "outputs": [],
      "source": [
        "# # Definindo a rede\n",
        "# net = nn.Sequential(\n",
        "#         ## ConvBlock 1\n",
        "#         nn.Conv2d(3, 64, kernel_size=3, stride=1, padding=1),      # entrada: (b, 3, 224, 224) e saida: (b, 64, 224, 224)\n",
        "#         nn.ReLU(),\n",
        "#         nn.MaxPool2d(kernel_size=2, stride=2, padding=0),          # entrada: (b, 64, 224, 224) e saida: (b, 64, 112, 112)\n",
        "        \n",
        "#         ## ConvBlock 2\n",
        "#         nn.Conv2d(64, 128, kernel_size=3, stride=1, padding=1),    # entrada: (b, 64, 112, 112) e saida: (b, 128, 112, 112)\n",
        "#         nn.ReLU(),\n",
        "#         nn.MaxPool2d(kernel_size=2, stride=2, padding=0),          # entrada: (b, 128, 112, 112) e saida: (b, 128, 56, 56)\n",
        "        \n",
        "#         ## ConvBlock 3\n",
        "#         nn.Conv2d(128, 256, kernel_size=3, stride=1, padding=1),   # entrada: (b, 128, 56, 56) e saida: (b, 256, 56, 56)\n",
        "#         nn.ReLU(),\n",
        "#         nn.Conv2d(256, 256, kernel_size=3, stride=1, padding=1),   # entrada: (b, 256, 56, 56) e saida: (b, 256, 56, 56)\n",
        "#         nn.ReLU(),\n",
        "#         nn.MaxPool2d(kernel_size=2, stride=2, padding=0),          # entrada: (b, 256, 56, 56) e saida: (b, 256, 28, 28)\n",
        "        \n",
        "#         ## ConvBlock 4\n",
        "#         nn.Conv2d(256, 512, kernel_size=3, stride=1, padding=1),   # entrada: (b, 256, 28, 28) e saida: (b, 512, 28, 28)\n",
        "#         nn.ReLU(),\n",
        "#         nn.Conv2d(512, 512, kernel_size=3, stride=1, padding=1),   # entrada: (b, 512, 28, 28) e saida: (b, 512, 28, 28)\n",
        "#         nn.ReLU(),\n",
        "#         nn.MaxPool2d(kernel_size=2, stride=2, padding=0),          # entrada: (b, 512, 28, 28) e saida: (b, 512, 14, 14)\n",
        "        \n",
        "#         ## ConvBlock 4\n",
        "#         nn.Conv2d(512, 512, kernel_size=3, stride=1, padding=1),   # entrada: (b, 512, 14, 14) e saida: (b, 512, 14, 14)\n",
        "#         nn.ReLU(),\n",
        "#         nn.Conv2d(512, 512, kernel_size=3, stride=1, padding=1),   # entrada: (b, 512, 14, 14) e saida: (b, 512, 14, 14)\n",
        "#         nn.ReLU(),\n",
        "#         nn.MaxPool2d(kernel_size=2, stride=2, padding=0),          # entrada: (b, 512, 14, 14) e saida: (b, 512, 7, 7)\n",
        "#         nn.Flatten(),  # lineariza formando um vetor               # entrada: (b, 512, 7, 7) e saida: (b, 512*7*7) = (b, 25088)\n",
        " \n",
        "#         ## DenseBlock\n",
        "#         nn.Linear(25088, 4096),                                    # entrada: (b, 25088) e saida: (b, 4096)\n",
        "#         nn.ReLU(),\n",
        "#         nn.Linear(4096, 4096),                                     # entrada: (b, 4096) e saida: (b, 4096)\n",
        "#         nn.ReLU(),\n",
        "#         nn.Linear(4096, 10),                                       # entrada: (b, 4096) e saida: (b, 10)\n",
        "#         nn.Softmax(dim=-1)\n",
        "#         )\n",
        "\n",
        "# # Subindo no hardware de GPU (se disponível)\n",
        "# net = net.to(args['device'])"
      ]
    },
    {
      "cell_type": "markdown",
      "metadata": {
        "colab_type": "text",
        "id": "n_mcMxEiGdWO"
      },
      "source": [
        "# Estratégias de Treino"
      ]
    },
    {
      "cell_type": "markdown",
      "metadata": {
        "colab_type": "text",
        "id": "DEf-DBaVPHGi"
      },
      "source": [
        "## Do zero (From scratch)"
      ]
    },
    {
      "cell_type": "markdown",
      "metadata": {
        "colab_type": "text",
        "id": "v-XdWeUXx1Im"
      },
      "source": [
        "O primeiro passo do treinamento do zero é definir os algoritmos que serão utilizados no processo de treinamento. Eles são:\n",
        "\n",
        "* **Função de perda**, que vai avaliar a qualidade da performance da rede a cada passo de treinamento;\n",
        "* **Otimizador**, que a partir da função de perda vai definir a melhor forma de atualizar os pesos."
      ]
    },
    {
      "cell_type": "code",
      "execution_count": 8,
      "metadata": {
        "colab": {},
        "colab_type": "code",
        "id": "pInOWfvTIPBl"
      },
      "outputs": [],
      "source": [
        "# Define a função de perda de entropia cruzada (adequada para classificação multi-classe) e move-a para o device (CPU/GPU).\n",
        "criterion = nn.CrossEntropyLoss().to(args['device'])\n",
        "\n",
        "# Cria o otimizador Adam para todos os parâmetros da rede, usando a taxa de aprendizado e o weight decay definidos em args.\n",
        "optimizer = optim.Adam(net.parameters(), lr=args['lr'], weight_decay=args['weight_decay'])"
      ]
    },
    {
      "cell_type": "markdown",
      "metadata": {
        "colab_type": "text",
        "id": "kdKiVlR_xzCk"
      },
      "source": [
        "Relembrando o passo a passo do fluxo de treinamento:\n",
        "\n",
        "* Iterar nas épocas\n",
        "* Iterar nos batches\n",
        "* Cast dos dados no dispositivo de hardware\n",
        "* Forward na rede e cálculo da loss\n",
        "* Zerar o gradiente do otimizador\n",
        "* Cálculo do gradiente e atualização dos pesos\n",
        "\n",
        "Para acompanhar a convergência do seu modelo (e garantir que tudo foi feito certinho), ao final de cada época podemos imprimir a média e o desvio padrão das perdas de cada iteração."
      ]
    },
    {
      "cell_type": "code",
      "execution_count": 9,
      "metadata": {
        "colab": {},
        "colab_type": "code",
        "id": "stZS9TSSGdC-"
      },
      "outputs": [],
      "source": [
        "# Define a função de treinamento que executa uma época completa sobre o DataLoader de treino.\n",
        "def train(train_loader, net, epoch):\n",
        "\n",
        "  # Coloca a rede em modo de treino (ativa Dropout, atualiza as estatísticas do BatchNorm).\n",
        "  net.train()\n",
        "  \n",
        "  # Marca o início para medir o tempo gasto na época.\n",
        "  start = time.time()\n",
        "  \n",
        "  # Acumuladores: lista de perdas por lote e vetores de previsões/rótulos para calcular acurácia.\n",
        "  epoch_loss  = []\n",
        "  pred_list, rotulo_list = [], []\n",
        "  # Loop sobre os lotes (mini-batches) do conjunto de treino.\n",
        "  for batch in train_loader:\n",
        "    \n",
        "    # Desempacota o lote em tensores de entrada (dado) e rótulos (rotulo).\n",
        "    dado, rotulo = batch\n",
        "    \n",
        "    # Move dados e rótulos para o dispositivo (GPU/CPU) configurado.\n",
        "    dado = dado.to(args['device'])\n",
        "    rotulo = rotulo.to(args['device'])\n",
        "    \n",
        "    # Passagem direta: obtém logits (pontuações antes do softmax) para cada classe.\n",
        "    ypred = net(dado)\n",
        "    # Calcula a perda de entropia cruzada entre os logits e os rótulos verdadeiros.\n",
        "    loss = criterion(ypred, rotulo)\n",
        "    # Armazena a perda do lote (nota: .item() seria equivalente para obter um escalar em Python).\n",
        "    epoch_loss.append(loss.cpu().data)\n",
        "\n",
        "    # Extrai as classes previstas via argmax ao longo do eixo das classes.\n",
        "    _, pred = torch.max(ypred, axis=1)\n",
        "    # Guarda as predições no CPU como NumPy para métricas.\n",
        "    pred_list.append(pred.cpu().numpy())\n",
        "    # Guarda os rótulos verdadeiros no CPU como NumPy.\n",
        "    rotulo_list.append(rotulo.cpu().numpy())\n",
        "    \n",
        "    # Zera gradientes acumulados do passo anterior.\n",
        "    optimizer.zero_grad()\n",
        "    # Backprop: propaga o erro para calcular gradientes.\n",
        "    loss.backward()\n",
        "    # Atualiza os parâmetros conforme a regra do otimizador.\n",
        "    optimizer.step()\n",
        "   \n",
        "  # Converte a lista de perdas para array NumPy (facilita média e desvio).\n",
        "  epoch_loss = np.asarray(epoch_loss)\n",
        "  # Achata as listas de predições e rótulos para vetores 1D alinhados.\n",
        "  pred_list  = np.asarray(pred_list).ravel()\n",
        "  rotulo_list  = np.asarray(rotulo_list).ravel()\n",
        "\n",
        "  # Calcula a acurácia da época.\n",
        "  acc = accuracy_score(rotulo_list, pred_list)\n",
        "  \n",
        "  # Marca o fim e calcula o tempo total da época.\n",
        "  end = time.time()\n",
        "  # Imprime um resumo legível da época: perda média, desvio-padrão, acurácia (%) e tempo.\n",
        "  print('#################### Train ####################')\n",
        "  print('Epoch %d, Loss: %.4f +/- %.4f, Acc: %.2f, Time: %.2f' % (epoch, epoch_loss.mean(), epoch_loss.std(), acc*100, end-start))\n",
        "  \n",
        "  # Retorna a perda média da época (útil para plotar curva de treino).\n",
        "  return epoch_loss.mean()\n"
      ]
    },
    {
      "cell_type": "markdown",
      "metadata": {
        "colab_type": "text",
        "id": "DHMGMlSP2Gg2"
      },
      "source": [
        "### Validação\n",
        "\n",
        "Para essa etapa, o PyTorch oferece dois artifícios:\n",
        "* ```model.eval()```: Impacta no *forward* da rede, informando as camadas caso seu comportamento mude entre fluxos (ex: dropout).\n",
        "* ```with torch.no_grad()```: Gerenciador de contexto que desabilita o cálculo e armazenamento de gradientes (economia de tempo e memória). Todo o código de validação deve ser executado dentro desse contexto.\n",
        "\n",
        "Exemplo de código para validação\n",
        "\n",
        "```python\n",
        "net.eval()\n",
        "with torch.no_grad():\n",
        "  for batch in test_loader:\n",
        "      # Código de validação\n",
        "```\n",
        "\n",
        "Existe o equivalente ao ```model.eval()``` para explicitar que a sua rede deve estar em modo de treino, é o ```model.train()```. Apesar de ser o padrão dos modelos, é boa prática definir também o modo de treinamento."
      ]
    },
    {
      "cell_type": "code",
      "execution_count": 10,
      "metadata": {
        "colab": {},
        "colab_type": "code",
        "id": "JxbiYRdXG90z"
      },
      "outputs": [],
      "source": [
        "# Define a função de validação que roda a avaliação do modelo por uma época.\n",
        "def validate(test_loader, net, epoch):\n",
        "\n",
        "  # Coloca o modelo em modo de avaliação (desativa Dropout e usa BN com estatísticas fixas).\n",
        "  # Evaluation mode\n",
        "  net.eval()\n",
        "  \n",
        "  # Inicia a contagem de tempo desta fase de validação.\n",
        "  start = time.time()\n",
        "  \n",
        "  # Vetores para acumular perdas por lote e listas de predições/rótulos.\n",
        "  epoch_loss  = []\n",
        "  pred_list, rotulo_list = [], []\n",
        "  # Desativa o cálculo de gradientes para acelerar e economizar memória.\n",
        "  with torch.no_grad(): \n",
        "    # Itera pelos lotes do DataLoader de teste/validação.\n",
        "    for batch in test_loader:\n",
        "\n",
        "      # Desempacota o lote em tensores de entrada (imagens) e rótulos verdadeiros.\n",
        "      dado, rotulo = batch\n",
        "\n",
        "      # Move os dados para o dispositivo (GPU/CPU) configurado em args['device'].\n",
        "      # Cast do dado na GPU\n",
        "      dado = dado.to(args['device'])\n",
        "      # Move os rótulos para o mesmo dispositivo.\n",
        "      rotulo = rotulo.to(args['device'])\n",
        "\n",
        "      # Passagem direta (forward) para obter os logits preditos.\n",
        "      # Forward\n",
        "      ypred = net(dado)\n",
        "      # Calcula a perda de entropia cruzada entre logits e rótulos.\n",
        "      loss = criterion(ypred, rotulo)\n",
        "      # Guarda a perda do lote (nota: .item() seria uma alternativa direta ao escalar).\n",
        "      epoch_loss.append(loss.cpu().data)\n",
        "\n",
        "      # Obtém as classes previstas via argmax no eixo das classes.\n",
        "      _, pred = torch.max(ypred, axis=1)\n",
        "      # Acumula as predições no CPU como arrays NumPy para cálculo de métricas depois.\n",
        "      pred_list.append(pred.cpu().numpy())\n",
        "      # Acumula os rótulos verdadeiros.\n",
        "      rotulo_list.append(rotulo.cpu().numpy())\n",
        "\n",
        "  # Converte a lista de perdas em array NumPy para facilitar média e desvio.\n",
        "  epoch_loss = np.asarray(epoch_loss)\n",
        "  # Achata as listas de predições (N_lotes × batch → N_amostras).\n",
        "  pred_list  = np.asarray(pred_list).ravel()\n",
        "  # Achata as listas de rótulos (N_lotes × batch → N_amostras).\n",
        "  rotulo_list  = np.asarray(rotulo_list).ravel()\n",
        "\n",
        "  # Calcula a acurácia;\n",
        "  acc = accuracy_score(rotulo_list, pred_list)\n",
        "  \n",
        "  # Finaliza a contagem de tempo desta fase.\n",
        "  end = time.time()\n",
        "  # Cabeçalho para separar os logs de validação no console.\n",
        "  print('********** Validate **********')\n",
        "  # Imprime resumo: época, perda média, desvio padrão, acurácia (%) e tempo decorrido.\n",
        "  print('Epoch %d, Loss: %.4f +/- %.4f, Acc: %.2f, Time: %.2f\\n' % (epoch, epoch_loss.mean(), epoch_loss.std(), acc*100, end-start))\n",
        "  \n",
        "  # Retorna a perda média da época de validação (útil para monitorar curvas).\n",
        "  return epoch_loss.mean()\n"
      ]
    },
    {
      "cell_type": "code",
      "execution_count": null,
      "metadata": {
        "colab": {
          "base_uri": "https://localhost:8080/",
          "height": 1000
        },
        "colab_type": "code",
        "id": "l5L-NPIC8hk0",
        "outputId": "a44a3891-2cff-4822-d531-1d51cc0e3fc0"
      },
      "outputs": [],
      "source": [
        "# Inicializa listas para registrar as perdas médias de treino e de validação por época.\n",
        "train_losses, test_losses = [], []\n",
        "\n",
        "# Loop principal: percorre o número de épocas definido em args['epoch_num'].\n",
        "for epoch in range(args['epoch_num']):\n",
        "  \n",
        "  # Comentário de seção: indica o início da fase de treinamento desta época.\n",
        "  # Train\n",
        "\n",
        "  # Executa uma época de treino, retorna a loss média e a adiciona ao histórico.\n",
        "  train_losses.append(train(train_loader, net, epoch))\n",
        "  \n",
        "  # Comentário de seção: indica o início da fase de validação desta época.\n",
        "  # Validate\n",
        "\n",
        "  # Executa a validação nesta época, retorna a loss média e registra no histórico.\n",
        "  test_losses.append(validate(test_loader, net, epoch))\n"
      ]
    }
  ],
  "metadata": {
    "accelerator": "GPU",
    "colab": {
      "collapsed_sections": [],
      "name": "Treino-do-zero-Gabarito.ipynb",
      "provenance": []
    },
    "kernelspec": {
      "display_name": "venv",
      "language": "python",
      "name": "python3"
    },
    "language_info": {
      "codemirror_mode": {
        "name": "ipython",
        "version": 3
      },
      "file_extension": ".py",
      "mimetype": "text/x-python",
      "name": "python",
      "nbconvert_exporter": "python",
      "pygments_lexer": "ipython3",
      "version": "3.10.12"
    }
  },
  "nbformat": 4,
  "nbformat_minor": 0
}
